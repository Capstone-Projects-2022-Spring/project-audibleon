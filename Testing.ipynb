{
 "cells": [
  {
   "cell_type": "code",
   "execution_count": 36,
   "id": "b24ca2b3",
   "metadata": {},
   "outputs": [],
   "source": [
    "import cv2\n",
    "import mediapipe as mp\n",
    "import handTrackingModule as htm\n",
    "import importlib\n",
    "import alphabet as alp\n",
    "importlib.reload(alp)\n",
    "import math\n",
    "from array import *\n",
    "import unittest"
   ]
  },
  {
   "cell_type": "code",
   "execution_count": 40,
   "id": "b6eca85f",
   "metadata": {},
   "outputs": [
    {
     "data": {
      "text/plain": [
       "0.0"
      ]
     },
     "execution_count": 40,
     "metadata": {},
     "output_type": "execute_result"
    }
   ],
   "source": [
    "alp.letterModel().length((2,2), (2,2))"
   ]
  },
  {
   "cell_type": "code",
   "execution_count": 46,
   "id": "ab0b1304",
   "metadata": {},
   "outputs": [
    {
     "name": "stderr",
     "output_type": "stream",
     "text": [
      "test_capture (__main__.TestLetterModelMethods) ... ok\n",
      "test_frontOrBack (__main__.TestLetterModelMethods) ... ok\n",
      "test_leftOrRight (__main__.TestLetterModelMethods) ... ok\n",
      "test_length (__main__.TestLetterModelMethods) ... ok\n",
      "test_space (__main__.TestLetterModelMethods) ... ok\n",
      "\n",
      "----------------------------------------------------------------------\n",
      "Ran 5 tests in 2.578s\n",
      "\n",
      "OK\n"
     ]
    },
    {
     "data": {
      "text/plain": [
       "<unittest.main.TestProgram at 0x27f84a92d90>"
      ]
     },
     "execution_count": 46,
     "metadata": {},
     "output_type": "execute_result"
    }
   ],
   "source": [
    "class TestLetterModelMethods(unittest.TestCase):\n",
    "\n",
    "    def setUp(self):\n",
    "        self.alp = alp.letterModel()\n",
    "        self.handsType = ['Right']\n",
    "        self.lmList = [[0, 200, 300],\n",
    "                      [1, 195, 280],\n",
    "                      [2, 193, 278 ],\n",
    "                      [3, 191, 276],\n",
    "                      [4, 189, 274],\n",
    "                      [5, 198, 272],\n",
    "                      [6, 198, 270],\n",
    "                      [7, 198, 268],\n",
    "                      [8, 198, 266],\n",
    "                      [9, 200, 272],\n",
    "                      [10, 200, 270],\n",
    "                      [11, 200, 268],\n",
    "                      [12, 200, 266],\n",
    "                      [13, 202, 272],\n",
    "                      [14, 202, 270],\n",
    "                      [15, 202, 268],\n",
    "                      [16, 202, 266],\n",
    "                      [17, 205, 272],\n",
    "                      [18, 205, 270],\n",
    "                      [19, 205, 268],\n",
    "                      [20, 205, 266]]\n",
    "        self.camera = cv2.VideoCapture(0)\n",
    "        \n",
    "    def test_length(self):\n",
    "        p1 = (4, 7)\n",
    "        p2 = (15, 30)\n",
    "        x1, y1 = p1\n",
    "        x2, y2 = p2\n",
    "        self.assertEqual(self.alp.length(p1, p2), math.dist([x1, y1], [x2, y2]) )\n",
    "        \n",
    "    def test_leftOrRight(self):\n",
    "        self.assertEqual(self.alp.leftOrRight(self.handsType), 1)\n",
    "    \n",
    "    def test_frontOrBack(self):\n",
    "        self.assertEqual(self.alp.frontOrBack(self.lmList, self.handsType), 1)  \n",
    "        \n",
    "    def test_space(self):\n",
    "        self.assertEqual(self.alp.space(self.lmList, self.handsType), 1)\n",
    "        \n",
    "    def test_capture(self):\n",
    "        ret, frame = self.camera.read()\n",
    "        self.assertTrue(ret)\n",
    "        \n",
    "    def tearDown(self):\n",
    "        self.camera.release()\n",
    "        \n",
    "#unittest.main(argv=[''], verbosity=2, exit=False)"
   ]
  },
  {
   "cell_type": "code",
   "execution_count": 24,
   "id": "1cb5e5d4",
   "metadata": {},
   "outputs": [
    {
     "data": {
      "text/plain": [
       "0.0"
      ]
     },
     "execution_count": 24,
     "metadata": {},
     "output_type": "execute_result"
    }
   ],
   "source": []
  },
  {
   "cell_type": "code",
   "execution_count": null,
   "id": "983797a8",
   "metadata": {},
   "outputs": [],
   "source": []
  },
  {
   "cell_type": "code",
   "execution_count": null,
   "id": "0180fd20",
   "metadata": {},
   "outputs": [],
   "source": [
    "def test_leftOrRight(self):\n",
    "        self.assertTrue('FOO'.isupper())\n",
    "        self.assertFalse('Foo'.isupper())\n",
    "\n",
    "    def test_frontOrBack(self):\n",
    "        s = 'hello world'\n",
    "        self.assertEqual(s.split(), ['hello', 'world'])\n",
    "        # check that s.split fails when the separator is not a string\n",
    "        with self.assertRaises(TypeError):\n",
    "            s.split(2)\n",
    "    def test_a(self):\n",
    "        \n",
    "    def test_h(self):\n",
    "    def test_v(self):\n",
    "    def test_space(self):\n",
    "    def test_readingFrames(self):"
   ]
  }
 ],
 "metadata": {
  "kernelspec": {
   "display_name": "Python 3",
   "language": "python",
   "name": "python3"
  },
  "language_info": {
   "codemirror_mode": {
    "name": "ipython",
    "version": 3
   },
   "file_extension": ".py",
   "mimetype": "text/x-python",
   "name": "python",
   "nbconvert_exporter": "python",
   "pygments_lexer": "ipython3",
   "version": "3.8.8"
  }
 },
 "nbformat": 4,
 "nbformat_minor": 5
}
