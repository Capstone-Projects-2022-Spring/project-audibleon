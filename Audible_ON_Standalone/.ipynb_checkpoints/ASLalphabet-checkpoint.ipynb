{
 "cells": [
  {
   "cell_type": "code",
   "execution_count": 39,
   "metadata": {},
   "outputs": [],
   "source": [
    "import cv2\n",
    "import mediapipe as mp\n",
    "import time\n",
    "import importlib\n",
    "import handTrackingModule as htm\n",
    "importlib.reload(htm)\n",
    "from math import *"
   ]
  },
  {
   "cell_type": "code",
   "execution_count": 40,
   "metadata": {},
   "outputs": [],
   "source": [
    "def a(lmList):\n",
    "    if len(lmList) != 0:\n",
    "        index = lmList[8][2] > lmList[6][2]\n",
    "        middle = lmList[12][2] > lmList[10][2]\n",
    "        ring = lmList[16][2] > lmList[14][2]\n",
    "        pinky = lmList[20][2] > lmList[18][2]\n",
    "        thumb = lmList[4][1] < lmList[3][1]\n",
    "        \n",
    "        if index and middle and ring and pinky and thumb:\n",
    "            return 1\n",
    "        else:\n",
    "            return 0"
   ]
  },
  {
   "cell_type": "code",
   "execution_count": 41,
   "metadata": {},
   "outputs": [],
   "source": [
    "def b(lmList):\n",
    "    if len(lmList) != 0:\n",
    "        index = lmList[8][2] < lmList[6][2]\n",
    "        middle = lmList[12][2] < lmList[10][2]\n",
    "        ring = lmList[16][2] < lmList[14][2]\n",
    "        pinky = lmList[20][2] < lmList[18][2]\n",
    "        thumb = lmList[4][1] < lmList[3][1]\n",
    "        \n",
    "        if index and middle and ring and pinky and thumb:\n",
    "            return 1\n",
    "        else:\n",
    "            return 0"
   ]
  },
  {
   "cell_type": "code",
   "execution_count": 42,
   "metadata": {},
   "outputs": [],
   "source": [
    "def lineTrack(frame, lmList, p1, p2, draw = True):\n",
    "    if len(lmList) != 0:\n",
    "        startPoint = (lmList[p1][1], lmList[p1][2])\n",
    "        endPoint = (lmList[p2][1], lmList[p2][2])\n",
    "        \n",
    "        if draw:\n",
    "            frame = cv2.line(frame, startPoint, endPoint, (255, 255, 255), 9)\n",
    "    return (frame, startPoint, endPoint) \n",
    "    "
   ]
  },
  {
   "cell_type": "code",
   "execution_count": 43,
   "metadata": {},
   "outputs": [],
   "source": [
    "def length(start, end):\n",
    "    x1, y1 = start\n",
    "    x2, y2 = end\n",
    "    x = (x2 - x1)**2\n",
    "    y = (y2 - y1)**2\n",
    "    return sqrt(x+y)"
   ]
  },
  {
   "cell_type": "code",
   "execution_count": 80,
   "metadata": {},
   "outputs": [],
   "source": [
    "def c(lmList):\n",
    "    dist = 200\n",
    "    if len(lmList) != 0:\n",
    "        if(lmList[5][3] > 120):\n",
    "            if(lmList[9][3] < lmList[5][3]):\n",
    "                dist = length((lmList[8][1],lmList[8][2]),(lmList[4][1],lmList[4][2]))\n",
    "        \n",
    "        if dist < 100:\n",
    "            return 1\n",
    "        else:\n",
    "            return 0"
   ]
  },
  {
   "cell_type": "code",
   "execution_count": null,
   "metadata": {},
   "outputs": [],
   "source": [
    "def d(lmList):\n",
    "    if len(lmList) != 0:\n",
    "        index = lmList[8][2] > lmList[6][2]\n",
    "        middle = lmList[12][2] < lmList[10][2]\n",
    "        ring = lmList[16][2] < lmList[14][2]\n",
    "        pinky = lmList[20][2] < lmList[18][2]\n",
    "        distance = length((lmList[8][1],lmList[8][2]),(lmList[4][1],lmList[4][2]))  \n",
    "        \n",
    "        if index and middle and ring and pinky and distance < 20:\n",
    "            return 1\n",
    "        else:\n",
    "            return 0"
   ]
  },
  {
   "cell_type": "code",
   "execution_count": null,
   "metadata": {},
   "outputs": [],
   "source": [
    "def e(lmList):\n",
    "    if len(lmList) != 0:\n",
    "        index = lmList[8][2] > lmList[6][2]\n",
    "        middle = lmList[12][2] < lmList[10][2]\n",
    "        ring = lmList[16][2] < lmList[14][2]\n",
    "        pinky = lmList[20][2] < lmList[18][2]\n",
    "        distance = length((lmList[8][1],lmList[8][2]),(lmList[4][1],lmList[4][2]))  \n",
    "        \n",
    "        if index and middle and ring and pinky and distance < 20:\n",
    "            return 1\n",
    "        else:\n",
    "            return 0"
   ]
  },
  {
   "cell_type": "code",
   "execution_count": null,
   "metadata": {},
   "outputs": [],
   "source": [
    "def f(lmList):\n",
    "    if len(lmList) != 0:\n",
    "        middle = lmList[12][2] > lmList[10][2]\n",
    "        ring = lmList[16][2] > lmList[14][2]\n",
    "        pinky = lmList[20][2] > lmList[18][2]\n",
    "        distance = length((lmList[8][1],lmList[8][2]),(lmList[4][1],lmList[4][2]))  \n",
    "        \n",
    "        if index and middle and ring and pinky and distance < 20:\n",
    "            return 1\n",
    "        else:\n",
    "            return 0"
   ]
  },
  {
   "cell_type": "code",
   "execution_count": 81,
   "metadata": {},
   "outputs": [],
   "source": [
    "wCam, hCam = 640, 480\n",
    "\n",
    "camera = cv2.VideoCapture(0)\n",
    "\n",
    "camera.set(3, wCam)\n",
    "camera.set(4, hCam)\n",
    "\n",
    "# For importing pictures\n",
    "#folderPath = \"FingerImages\"\n",
    "#myList = os.listdir(folderPath)\n",
    "\n",
    "#overlayList = []\n",
    "\n",
    "#for imPath in myList:\n",
    "    #image = cv2.imread(f'{folderPath}/{imPath}')\n",
    "    #overlayList.append(image)\n",
    "\n",
    "pTime = 0\n",
    "\n",
    "detector = htm.handDetector(detectionCon = 0.75)"
   ]
  },
  {
   "cell_type": "code",
   "execution_count": 82,
   "metadata": {},
   "outputs": [],
   "source": [
    "while True:\n",
    "    success, frame = camera.read()\n",
    "    \n",
    "    frame = cv2.flip(frame, 1)\n",
    "    \n",
    "    frame = detector.findHands(frame)\n",
    "    \n",
    "    lmList = detector.findPosition(frame, draw = False)\n",
    "    \n",
    "    if(c(lmList)):\n",
    "         cv2.putText(frame, f'You signed c!', (0, 70), cv2.FONT_HERSHEY_PLAIN, 3, (255,0,0), 3)\n",
    "    elif(a(lmList)):\n",
    "        cv2.putText(frame, f'You signed a!', (0, 70), cv2.FONT_HERSHEY_PLAIN, 3, (255,0,0), 3)\n",
    "    elif(b(lmList)):\n",
    "        cv2.putText(frame, f'You signed b!', (0, 70), cv2.FONT_HERSHEY_PLAIN, 3, (255,0,0), 3)\n",
    "  \n",
    "    #if len(lmList) != 0:\n",
    "        #if(lmList[5][3] > 130):\n",
    "            #if(lmList[9][3] < lmList[5][3]):\n",
    "                #z = lmList[9][3]\n",
    "                #z2 = lmList[5][3]\n",
    "                #cv2.putText(frame, f'pinky{z} < index{z2}', (0, 100), cv2.FONT_HERSHEY_PLAIN, 3, (255,0,0), 3)\n",
    "    \n",
    "    # Calculating the Frames per Seconds (FPS)\n",
    "    cTime = time.time()\n",
    "    fps = 1 / (cTime - pTime)\n",
    "    pTime = cTime\n",
    "    \n",
    "    # Displaying the FPS (ERROR PRINTING HIGH NUMBERS)\n",
    "    cv2.putText(frame, f'FPS: {int(fps)}', (400, 70), cv2.FONT_HERSHEY_PLAIN, 3, (0,0,0), 3)\n",
    "    \n",
    "    cv2.imshow(\"Camera\", frame)\n",
    "    \n",
    "    key = cv2.waitKey(1)\n",
    "    if key in [27, ord('Q'), ord('q')]:\n",
    "        break\n",
    "        \n",
    "camera.release()\n",
    "cv2.destroyAllWindows()"
   ]
  },
  {
   "cell_type": "code",
   "execution_count": null,
   "metadata": {},
   "outputs": [],
   "source": []
  }
 ],
 "metadata": {
  "kernelspec": {
   "display_name": "Python 3",
   "language": "python",
   "name": "python3"
  },
  "language_info": {
   "codemirror_mode": {
    "name": "ipython",
    "version": 3
   },
   "file_extension": ".py",
   "mimetype": "text/x-python",
   "name": "python",
   "nbconvert_exporter": "python",
   "pygments_lexer": "ipython3",
   "version": "3.6.12"
  }
 },
 "nbformat": 4,
 "nbformat_minor": 4
}
