{
 "cells": [
  {
   "cell_type": "code",
   "execution_count": 16,
   "metadata": {},
   "outputs": [],
   "source": [
    "import cv2\n",
    "import mediapipe as mp\n",
    "import time\n",
    "import importlib\n",
    "import handTrackingModule as htm\n",
    "importlib.reload(htm)\n",
    "from math import *"
   ]
  },
  {
   "cell_type": "code",
   "execution_count": 2,
   "metadata": {},
   "outputs": [],
   "source": [
    "def a(lmList):\n",
    "    if len(lmList) != 0:\n",
    "        index = lmList[8][2] > lmList[6][2]\n",
    "        middle = lmList[12][2] > lmList[10][2]\n",
    "        ring = lmList[16][2] > lmList[14][2]\n",
    "        pinky = lmList[20][2] > lmList[18][2]\n",
    "        thumb = lmList[4][1] < lmList[3][1]\n",
    "        \n",
    "        if index and middle and ring and pinky and thumb:\n",
    "            return 1\n",
    "        else:\n",
    "            return 0"
   ]
  },
  {
   "cell_type": "code",
   "execution_count": 3,
   "metadata": {},
   "outputs": [],
   "source": [
    "def b(lmList):\n",
    "    if len(lmList) != 0:\n",
    "        index = lmList[8][2] < lmList[6][2]\n",
    "        middle = lmList[12][2] < lmList[10][2]\n",
    "        ring = lmList[16][2] < lmList[14][2]\n",
    "        pinky = lmList[20][2] < lmList[18][2]\n",
    "        thumb = lmList[4][1] < lmList[3][1]\n",
    "        \n",
    "        if index and middle and ring and pinky and thumb:\n",
    "            return 1\n",
    "        else:\n",
    "            return 0"
   ]
  },
  {
   "cell_type": "code",
   "execution_count": 55,
   "metadata": {},
   "outputs": [],
   "source": [
    "def lineTrack(frame, lmList, p1, p2, draw = True):\n",
    "    if len(lmList) != 0:\n",
    "        startPoint = (lmList[p1][1], lmList[p1][2])\n",
    "        endPoint = (lmList[p2][1], lmList[p2][2])\n",
    "        \n",
    "        if draw:\n",
    "            frame = cv2.line(frame, startPoint, endPoint, (255, 255, 255), 9)\n",
    "    return (frame, startPoint, endPoint) \n",
    "    "
   ]
  },
  {
   "cell_type": "code",
   "execution_count": 54,
   "metadata": {},
   "outputs": [],
   "source": [
    "def length(start, end):\n",
    "    x1, y1 = start\n",
    "    x2, y2 = end\n",
    "    x = (x2 - x1)**2\n",
    "    y = (y2 - y1)**2\n",
    "    return sqrt(x+y)"
   ]
  },
  {
   "cell_type": "code",
   "execution_count": 140,
   "metadata": {},
   "outputs": [],
   "source": [
    "def c(lmList):\n",
    "    if(lmList):\n",
    "        index = lmList[8][2] > lmList[6][2]\n",
    "        middle = lmList[12][2] > lmList[10][2]\n",
    "        ring = lmList[16][2] > lmList[14][2]\n",
    "        pinky = lmList[20][2] > lmList[18][2]\n",
    "        thumb = lmList[4][2] < lmList[3][2]\n",
    "        turned = lmList[12][1] > lmList[10][1]\n",
    "        \n",
    "        if index and middle and ring and pinky and thumb and turned:\n",
    "            return 1\n",
    "        else:\n",
    "            return 0\n",
    "        "
   ]
  },
  {
   "cell_type": "code",
   "execution_count": 7,
   "metadata": {},
   "outputs": [],
   "source": [
    "def d(lmList):\n",
    "    if len(lmList) != 0:\n",
    "        index = lmList[8][2] > lmList[6][2]\n",
    "        middle = lmList[12][2] < lmList[10][2]\n",
    "        ring = lmList[16][2] < lmList[14][2]\n",
    "        pinky = lmList[20][2] < lmList[18][2]\n",
    "        distance = length((lmList[8][1],lmList[8][2]),(lmList[4][1],lmList[4][2]))  \n",
    "        \n",
    "        if index and middle and ring and pinky and distance < 70:\n",
    "            return 1\n",
    "        else:\n",
    "            return 0"
   ]
  },
  {
   "cell_type": "code",
   "execution_count": 8,
   "metadata": {},
   "outputs": [],
   "source": [
    "def e(lmList):\n",
    "    if len(lmList) != 0:\n",
    "        index = lmList[8][2] > lmList[6][2]\n",
    "        middle = lmList[12][2] < lmList[10][2]\n",
    "        ring = lmList[16][2] < lmList[14][2]\n",
    "        pinky = lmList[20][2] < lmList[18][2]\n",
    "        distance = length((lmList[8][1],lmList[8][2]),(lmList[4][1],lmList[4][2]))  \n",
    "        \n",
    "        if index and middle and ring and pinky and distance < 20:\n",
    "            return 1\n",
    "        else:\n",
    "            return 0"
   ]
  },
  {
   "cell_type": "code",
   "execution_count": 9,
   "metadata": {},
   "outputs": [],
   "source": [
    "def f(lmList):\n",
    "    if len(lmList) != 0:\n",
    "        middle = lmList[12][2] > lmList[10][2]\n",
    "        ring = lmList[16][2] > lmList[14][2]\n",
    "        pinky = lmList[20][2] > lmList[18][2]\n",
    "        distance = length((lmList[8][1],lmList[8][2]),(lmList[4][1],lmList[4][2]))  \n",
    "        \n",
    "        if middle and ring and pinky and distance < 20:\n",
    "            return 1\n",
    "        else:\n",
    "            return 0"
   ]
  },
  {
   "cell_type": "code",
   "execution_count": 94,
   "metadata": {},
   "outputs": [],
   "source": [
    "def g(lmList):\n",
    "    if(lmList):\n",
    "        index = lmList[8][1] < lmList[6][1]\n",
    "        middle = lmList[12][1] > lmList[10][1]\n",
    "        ring = lmList[16][1] > lmList[14][1]\n",
    "        pinky = lmList[20][1] > lmList[18][1]\n",
    "        thumb = lmList[4][1] < lmList[3][1]\n",
    "        distance = length((lmList[6][1],lmList[6][2]),(lmList[4][1],lmList[4][2]))\n",
    "        \n",
    "        if index and middle and ring and pinky and thumb and distance < 60:\n",
    "            return 1\n",
    "        else:\n",
    "            return 0"
   ]
  },
  {
   "cell_type": "code",
   "execution_count": 97,
   "metadata": {},
   "outputs": [],
   "source": [
    "def h(lmList):\n",
    "    if(lmList):\n",
    "        index = lmList[8][1] < lmList[6][1]\n",
    "        middle = lmList[12][1] < lmList[10][1]\n",
    "        ring = lmList[16][1] > lmList[14][1]\n",
    "        pinky = lmList[20][1] > lmList[18][1]\n",
    "        thumb = lmList[4][1] < lmList[3][1]\n",
    "        distance = length((lmList[6][1],lmList[6][2]),(lmList[4][1],lmList[4][2]))\n",
    "        \n",
    "        if index and middle and ring and pinky and thumb and distance < 60:\n",
    "            return 1\n",
    "        else:\n",
    "            return 0"
   ]
  },
  {
   "cell_type": "code",
   "execution_count": 74,
   "metadata": {},
   "outputs": [],
   "source": [
    "def i(lmList):\n",
    "    if(lmList):\n",
    "        index = lmList[8][2] > lmList[6][2]\n",
    "        middle = lmList[12][2] > lmList[10][2]\n",
    "        ring = lmList[16][2] > lmList[14][2]\n",
    "        pinky = lmList[20][2] < lmList[18][2]\n",
    "        thumb = lmList[4][1] > lmList[3][1]\n",
    "        \n",
    "        if index and middle and ring and pinky and thumb:\n",
    "            return 1\n",
    "        else:\n",
    "            return 0"
   ]
  },
  {
   "cell_type": "code",
   "execution_count": null,
   "metadata": {},
   "outputs": [],
   "source": [
    "def j():"
   ]
  },
  {
   "cell_type": "code",
   "execution_count": 106,
   "metadata": {},
   "outputs": [],
   "source": [
    "def k(lmList):\n",
    "    if(lmList):\n",
    "        index = lmList[8][2] < lmList[6][2]\n",
    "        middle = lmList[12][2] < lmList[10][2]\n",
    "        ring = lmList[16][2] > lmList[14][2]\n",
    "        pinky = lmList[20][2] > lmList[18][2]\n",
    "        distance = length((lmList[10][1],lmList[10][2]),(lmList[4][1],lmList[4][2]))\n",
    "        \n",
    "        if index and middle and ring and pinky and distance < 40:\n",
    "            return 1\n",
    "        else:\n",
    "            return 0"
   ]
  },
  {
   "cell_type": "code",
   "execution_count": 82,
   "metadata": {},
   "outputs": [],
   "source": [
    "def l(lmList):\n",
    "    if(lmList):\n",
    "        index = lmList[8][2] < lmList[6][2]\n",
    "        middle = lmList[12][2] > lmList[10][2]\n",
    "        ring = lmList[16][2] > lmList[14][2]\n",
    "        pinky = lmList[20][2] > lmList[18][2]\n",
    "        thumb = lmList[4][1] < lmList[3][1]\n",
    "        \n",
    "        if index and middle and ring and pinky and thumb:\n",
    "            return 1\n",
    "        else:\n",
    "            return 0"
   ]
  },
  {
   "cell_type": "code",
   "execution_count": 115,
   "metadata": {},
   "outputs": [],
   "source": [
    "def m(lmList):\n",
    "    if(lmList):\n",
    "        index = lmList[8][2] > lmList[6][2]\n",
    "        middle = lmList[12][2] > lmList[10][2]\n",
    "        ring = lmList[16][2] > lmList[14][2]\n",
    "        pinky = lmList[20][2] > lmList[18][2]\n",
    "        thumb_in = lmList[3][3] > lmList[11][3]\n",
    "        distance = length((lmList[7][1],lmList[7][2]),(lmList[3][1],lmList[3][2]))\n",
    "        \n",
    "        if index and middle and ring and pinky and thumb_in and distance < 30:\n",
    "            return 1\n",
    "        else:\n",
    "            return 0"
   ]
  },
  {
   "cell_type": "code",
   "execution_count": 124,
   "metadata": {},
   "outputs": [],
   "source": [
    "def n(lmList):\n",
    "    if(lmList):\n",
    "        index = lmList[8][2] > lmList[6][2]\n",
    "        middle = lmList[12][2] > lmList[10][2]\n",
    "        ring = lmList[16][2] > lmList[14][2]\n",
    "        pinky = lmList[20][2] > lmList[18][2]\n",
    "        thumb_in = lmList[3][3] > lmList[11][3]\n",
    "        thumb_up = lmList[4][2] < lmList[14][2]\n",
    "        \n",
    "        if index and middle and ring and pinky and thumb_in and thumb_up:\n",
    "            return 1\n",
    "        else:\n",
    "            return 0"
   ]
  },
  {
   "cell_type": "code",
   "execution_count": null,
   "metadata": {},
   "outputs": [],
   "source": [
    "def o():"
   ]
  },
  {
   "cell_type": "code",
   "execution_count": null,
   "metadata": {},
   "outputs": [],
   "source": [
    "def p():"
   ]
  },
  {
   "cell_type": "code",
   "execution_count": null,
   "metadata": {},
   "outputs": [],
   "source": [
    "def q():"
   ]
  },
  {
   "cell_type": "code",
   "execution_count": 136,
   "metadata": {},
   "outputs": [],
   "source": [
    "def r(lmList):\n",
    "    if(lmList):\n",
    "        index = lmList[8][2] < lmList[6][2]\n",
    "        middle = lmList[12][2] < lmList[10][2]\n",
    "        ring = lmList[16][2] > lmList[14][2]\n",
    "        pinky = lmList[20][2] > lmList[18][2]\n",
    "        thumb = lmList[4][1] > lmList[3][1]\n",
    "        distance = length((lmList[11][1],lmList[11][2]),(lmList[7][1],lmList[7][2]))\n",
    "        \n",
    "        if index and middle and ring and pinky and thumb and distance < 20:\n",
    "            return 1\n",
    "        else:\n",
    "            return 0"
   ]
  },
  {
   "cell_type": "code",
   "execution_count": 85,
   "metadata": {},
   "outputs": [],
   "source": [
    "def s(lmList):\n",
    "    if(lmList):\n",
    "        index = lmList[8][2] > lmList[6][2]\n",
    "        middle = lmList[12][2] > lmList[10][2]\n",
    "        ring = lmList[16][2] > lmList[14][2]\n",
    "        pinky = lmList[20][2] > lmList[18][2]\n",
    "        thumb = lmList[4][1] > lmList[3][1]\n",
    "        \n",
    "        if index and middle and ring and pinky and thumb:\n",
    "            return 1\n",
    "        else:\n",
    "            return 0"
   ]
  },
  {
   "cell_type": "code",
   "execution_count": 127,
   "metadata": {},
   "outputs": [],
   "source": [
    "def t(lmList):\n",
    "    if(lmList):\n",
    "        index = lmList[8][2] > lmList[6][2]\n",
    "        middle = lmList[12][2] > lmList[10][2]\n",
    "        ring = lmList[16][2] > lmList[14][2]\n",
    "        pinky = lmList[20][2] > lmList[18][2]\n",
    "        thumb_in = lmList[3][3] > lmList[11][3]\n",
    "        thumb_up = lmList[4][2] < lmList[14][2]\n",
    "        distance = length((lmList[7][1],lmList[7][2]),(lmList[3][1],lmList[3][2]))\n",
    "        \n",
    "        if index and middle and ring and pinky and thumb_in and thumb_up and distance < 20:\n",
    "            return 1\n",
    "        else:\n",
    "            return 0"
   ]
  },
  {
   "cell_type": "code",
   "execution_count": 59,
   "metadata": {},
   "outputs": [],
   "source": [
    "def u(lmList):\n",
    "    if(lmList):\n",
    "        index = lmList[8][2] < lmList[6][2]\n",
    "        middle = lmList[12][2] < lmList[10][2]\n",
    "        ring = lmList[16][2] > lmList[14][2]\n",
    "        pinky = lmList[20][2] > lmList[18][2]\n",
    "        thumb = lmList[4][1] > lmList[3][1]\n",
    "        distance = length((lmList[8][1],lmList[8][2]),(lmList[12][1],lmList[12][2]))\n",
    "        \n",
    "        if index and middle and ring and pinky and thumb and distance < 30:\n",
    "            return 1\n",
    "        else:\n",
    "            return 0"
   ]
  },
  {
   "cell_type": "code",
   "execution_count": 62,
   "metadata": {},
   "outputs": [],
   "source": [
    "def v(lmList):\n",
    "    if(lmList):\n",
    "        index = lmList[8][2] < lmList[6][2]\n",
    "        middle = lmList[12][2] < lmList[10][2]\n",
    "        ring = lmList[16][2] > lmList[14][2]\n",
    "        pinky = lmList[20][2] > lmList[18][2]\n",
    "        thumb = lmList[4][1] > lmList[3][1]\n",
    "        distance = length((lmList[8][1],lmList[8][2]),(lmList[12][1],lmList[12][2]))\n",
    "        \n",
    "        if index and middle and ring and pinky and thumb and distance > 40:\n",
    "            return 1\n",
    "        else:\n",
    "            return 0"
   ]
  },
  {
   "cell_type": "code",
   "execution_count": 65,
   "metadata": {},
   "outputs": [],
   "source": [
    "def w(lmList):\n",
    "    if(lmList):\n",
    "        index = lmList[8][2] < lmList[6][2]\n",
    "        middle = lmList[12][2] < lmList[10][2]\n",
    "        ring = lmList[16][2] < lmList[14][2]\n",
    "        pinky = lmList[20][2] > lmList[18][2]\n",
    "        thumb = lmList[4][1] > lmList[3][1]\n",
    "        \n",
    "        if index and middle and ring and pinky and thumb:\n",
    "            return 1\n",
    "        else:\n",
    "            return 0"
   ]
  },
  {
   "cell_type": "code",
   "execution_count": null,
   "metadata": {},
   "outputs": [],
   "source": [
    "def x():"
   ]
  },
  {
   "cell_type": "code",
   "execution_count": 71,
   "metadata": {},
   "outputs": [],
   "source": [
    "def y(lmList):\n",
    "    if(lmList):\n",
    "        index = lmList[8][2] > lmList[6][2]\n",
    "        middle = lmList[12][2] > lmList[10][2]\n",
    "        ring = lmList[16][2] > lmList[14][2]\n",
    "        pinky = lmList[20][2] < lmList[18][2]\n",
    "        thumb = lmList[4][1] < lmList[3][1]\n",
    "        \n",
    "        if index and middle and ring and pinky and thumb:\n",
    "            return 1\n",
    "        else:\n",
    "            return 0"
   ]
  },
  {
   "cell_type": "code",
   "execution_count": null,
   "metadata": {},
   "outputs": [],
   "source": [
    "def z():"
   ]
  },
  {
   "cell_type": "code",
   "execution_count": null,
   "metadata": {},
   "outputs": [],
   "source": [
    "def space():"
   ]
  },
  {
   "cell_type": "code",
   "execution_count": null,
   "metadata": {},
   "outputs": [],
   "source": [
    "def delete():"
   ]
  },
  {
   "cell_type": "code",
   "execution_count": null,
   "metadata": {},
   "outputs": [],
   "source": [
    "def period():"
   ]
  },
  {
   "cell_type": "code",
   "execution_count": null,
   "metadata": {},
   "outputs": [],
   "source": [
    "def exclamation():"
   ]
  },
  {
   "cell_type": "code",
   "execution_count": null,
   "metadata": {},
   "outputs": [],
   "source": [
    "def question():"
   ]
  },
  {
   "cell_type": "code",
   "execution_count": 35,
   "metadata": {},
   "outputs": [],
   "source": [
    "def leftOrRight(handsType):\n",
    "    for handType in handsType:\n",
    "        if handType == 'Right':\n",
    "            return 1\n",
    "        else:\n",
    "            return 0"
   ]
  },
  {
   "cell_type": "code",
   "execution_count": 36,
   "metadata": {},
   "outputs": [],
   "source": [
    "def frontOrBack(lmList, handsType):\n",
    "    if len(lmList) != 0:\n",
    "        p1 = lmList[5][1]\n",
    "        p2 = lmList[17][1]\n",
    "        if leftOrRight(handsType):\n",
    "            if p2 > p1:\n",
    "                return 1\n",
    "            elif p1 > p2:\n",
    "                return 0\n",
    "        else:\n",
    "            if p2 < p1:\n",
    "                return 1\n",
    "            elif p1 < p2:\n",
    "                return 0"
   ]
  },
  {
   "cell_type": "code",
   "execution_count": 24,
   "metadata": {},
   "outputs": [],
   "source": [
    "def isPercentageOf(p1, p2):\n",
    "    percentage = ((p1 - p2)/p2) * 100\n",
    "    return percentage"
   ]
  },
  {
   "cell_type": "code",
   "execution_count": 42,
   "metadata": {},
   "outputs": [],
   "source": [
    "def isSide(lmList, handsType):\n",
    "    if len(lmList) != 0:\n",
    "        xp1 = lmList[5][1]\n",
    "        xp2 = lmList[17][1]\n",
    "        zp1 = lmList[5][3]\n",
    "        zp2 = lmList[17][3]\n",
    "        if zp2 > zp1 and (xp2 - xp1) < 30:\n",
    "            return 1\n",
    "        else:\n",
    "            return 0\n",
    "            \n",
    "            "
   ]
  },
  {
   "cell_type": "code",
   "execution_count": 141,
   "metadata": {},
   "outputs": [],
   "source": [
    "wCam, hCam = 640, 480\n",
    "\n",
    "camera = cv2.VideoCapture(0)\n",
    "\n",
    "camera.set(3, wCam)\n",
    "camera.set(4, hCam)\n",
    "\n",
    "# For importing pictures\n",
    "#folderPath = \"FingerImages\"\n",
    "#myList = os.listdir(folderPath)\n",
    "\n",
    "#overlayList = []\n",
    "\n",
    "#for imPath in myList:\n",
    "    #image = cv2.imread(f'{folderPath}/{imPath}')\n",
    "    #overlayList.append(image)\n",
    "\n",
    "pTime = 0\n",
    "\n",
    "detector = htm.handDetector(detectionCon = 1)"
   ]
  },
  {
   "cell_type": "code",
   "execution_count": 142,
   "metadata": {},
   "outputs": [],
   "source": [
    "# lighting and background noise concerns\n",
    "while True:\n",
    "    success, frame = camera.read()\n",
    "    \n",
    "    frame = cv2.flip(frame, 1)\n",
    "    \n",
    "    frame = detector.findHands(frame)\n",
    "    \n",
    "    lmList = detector.findPosition(frame, draw = False)\n",
    "    handsType = detector.findHandType()\n",
    "    \n",
    "    if(c(lmList)):\n",
    "        cv2.putText(frame, f'C', (0, 70), cv2.FONT_HERSHEY_PLAIN, 3, (255,0,0), 3)\n",
    "    \n",
    "    #if(c(lmList)):\n",
    "         #cv2.putText(frame, f'You signed c!', (0, 70), cv2.FONT_HERSHEY_PLAIN, 3, (255,0,0), 3)\n",
    "    #elif(a(lmList)):\n",
    "        #cv2.putText(frame, f'You signed a!', (0, 70), cv2.FONT_HERSHEY_PLAIN, 3, (255,0,0), 3)\n",
    "    #elif(b(lmList)):\n",
    "        #cv2.putText(frame, f'You signed b!', (0, 70), cv2.FONT_HERSHEY_PLAIN, 3, (255,0,0), 3)\n",
    "    #elif(d(lmList)):\n",
    "        #cv2.putText(frame, f'You signed d!', (0, 70), cv2.FONT_HERSHEY_PLAIN, 3, (255,0,0), 3)\n",
    "    #elif(f(lmList)):\n",
    "        #cv2.putText(frame, f'You signed f!', (0, 70), cv2.FONT_HERSHEY_PLAIN, 3, (255,0,0), 3)\n",
    "  \n",
    "    #if len(lmList) != 0:\n",
    "        #if(lmList[5][3] > 130):\n",
    "            #if(lmList[9][3] < lmList[5][3]):\n",
    "                #z = lmList[9][3]\n",
    "                #z2 = lmList[5][3]\n",
    "                #cv2.putText(frame, f'pinky{z} < index{z2}', (0, 100), cv2.FONT_HERSHEY_PLAIN, 3, (255,0,0), 3)\n",
    "    \n",
    "    # Calculating the Frames per Seconds (FPS)\n",
    "    cTime = time.time()\n",
    "    fps = 1 / (cTime - pTime)\n",
    "    pTime = cTime\n",
    "    \n",
    "    # Displaying the FPS (ERROR PRINTING HIGH NUMBERS)\n",
    "    cv2.putText(frame, f'FPS: {int(fps)}', (400, 70), cv2.FONT_HERSHEY_PLAIN, 3, (0,0,0), 3)\n",
    "    \n",
    "    cv2.imshow(\"Camera\", frame)\n",
    "    \n",
    "    key = cv2.waitKey(1)\n",
    "    if key in [27, ord('Q'), ord('q')]:\n",
    "        break\n",
    "        \n",
    "camera.release()\n",
    "cv2.destroyAllWindows()"
   ]
  },
  {
   "cell_type": "code",
   "execution_count": null,
   "metadata": {},
   "outputs": [],
   "source": []
  }
 ],
 "metadata": {
  "kernelspec": {
   "display_name": "Python 3",
   "language": "python",
   "name": "python3"
  },
  "language_info": {
   "codemirror_mode": {
    "name": "ipython",
    "version": 3
   },
   "file_extension": ".py",
   "mimetype": "text/x-python",
   "name": "python",
   "nbconvert_exporter": "python",
   "pygments_lexer": "ipython3",
   "version": "3.8.8"
  }
 },
 "nbformat": 4,
 "nbformat_minor": 4
}
