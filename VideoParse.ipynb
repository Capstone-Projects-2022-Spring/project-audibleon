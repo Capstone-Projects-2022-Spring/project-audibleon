{
 "cells": [
  {
   "cell_type": "markdown",
   "id": "dd6b88b7",
   "metadata": {},
   "source": [
    "## IMPORTS"
   ]
  },
  {
   "cell_type": "code",
   "execution_count": 3,
   "id": "cfe84000",
   "metadata": {},
   "outputs": [],
   "source": [
    "import numpy as np\n",
    "import pandas as pd\n",
    "\n",
    "import cv2"
   ]
  },
  {
   "cell_type": "markdown",
   "id": "8e35d80c",
   "metadata": {},
   "source": [
    "## DATA RETRIEVAL"
   ]
  },
  {
   "cell_type": "code",
   "execution_count": null,
   "id": "260a05b3",
   "metadata": {},
   "outputs": [],
   "source": [
    "import cv\n",
    "\n",
    "capture = cv.CaptureFromFile(filename)\n",
    "while Condition1:\n",
    "    # Need a frame to get the output video dimensions\n",
    "    frame = cv.RetrieveFrame(capture) # Will return None if there are no frames\n",
    "    # New video file\n",
    "    video_out = cv.CreateVideoWriter(output_filenameX,\n",
    "        CV_FOURCC('M','J','P','G'), capture.fps, frame.size(), 1)\n",
    "    # Write the frames\n",
    "    cv.WriteFrame(video_out, frame)\n",
    "    while Condition2:\n",
    "        # Will return None if there are no frames\n",
    "        frame = cv.RetrieveFrame(capture)\n",
    "        cv.WriteFrame(video_out, frame)"
   ]
  },
  {
   "cell_type": "markdown",
   "id": "abf69831",
   "metadata": {},
   "source": [
    "## DATA SPLIT"
   ]
  },
  {
   "cell_type": "code",
   "execution_count": null,
   "id": "348774b9",
   "metadata": {},
   "outputs": [],
   "source": []
  },
  {
   "cell_type": "markdown",
   "id": "cf368e76",
   "metadata": {},
   "source": [
    "## DATA STORE"
   ]
  },
  {
   "cell_type": "code",
   "execution_count": null,
   "id": "58ecc174",
   "metadata": {},
   "outputs": [],
   "source": []
  }
 ],
 "metadata": {
  "kernelspec": {
   "display_name": "Python 3",
   "language": "python",
   "name": "python3"
  },
  "language_info": {
   "codemirror_mode": {
    "name": "ipython",
    "version": 3
   },
   "file_extension": ".py",
   "mimetype": "text/x-python",
   "name": "python",
   "nbconvert_exporter": "python",
   "pygments_lexer": "ipython3",
   "version": "3.8.8"
  }
 },
 "nbformat": 4,
 "nbformat_minor": 5
}
