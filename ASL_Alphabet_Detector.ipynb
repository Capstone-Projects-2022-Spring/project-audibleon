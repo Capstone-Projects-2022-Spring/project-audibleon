{
 "cells": [
  {
   "cell_type": "code",
   "execution_count": 47,
   "metadata": {},
   "outputs": [],
   "source": [
    "import numpy as np\n",
    "import pandas as pd\n",
    "import matplotlib.pyplot as plt\n",
    "import keras\n",
    "import tensorflow as tf\n",
    "import cv2 as cv\n",
    "import mediapipe as mp\n",
    "import handTrackingModule as htm"
   ]
  },
  {
   "cell_type": "code",
   "execution_count": 5,
   "metadata": {},
   "outputs": [],
   "source": [
    "from tensorflow.keras.utils import to_categorical\n",
    "from keras.models import Sequential, Model\n",
    "from keras.layers import Dense, Conv2D , MaxPool2D , Flatten , Dropout , BatchNormalization, Input, Activation\n",
    "from keras import backend as K\n",
    "from keras.preprocessing.image import ImageDataGenerator\n",
    "from sklearn.metrics import confusion_matrix\n",
    "from sklearn.model_selection import train_test_split\n",
    "from sklearn.metrics import plot_confusion_matrix ,classification_report\n",
    "from sklearn.metrics import accuracy_score, precision_score,recall_score,f1_score"
   ]
  },
  {
   "cell_type": "code",
   "execution_count": 6,
   "metadata": {},
   "outputs": [],
   "source": [
    "trainFile = \"sign_mnist_train.csv\"\n",
    "testFile = \"sign_mnist_test.csv\""
   ]
  },
  {
   "cell_type": "code",
   "execution_count": 7,
   "metadata": {},
   "outputs": [
    {
     "name": "stdout",
     "output_type": "stream",
     "text": [
      "Epoch 1/6\n",
      "301/301 [==============================] - 16s 52ms/step - loss: 1.4451 - accuracy: 0.5516 - val_loss: 0.4006 - val_accuracy: 0.8641\n",
      "Epoch 2/6\n",
      "301/301 [==============================] - 17s 55ms/step - loss: 0.1879 - accuracy: 0.9430 - val_loss: 0.0662 - val_accuracy: 0.9834\n",
      "Epoch 3/6\n",
      "301/301 [==============================] - 18s 59ms/step - loss: 0.0444 - accuracy: 0.9893 - val_loss: 0.0230 - val_accuracy: 0.9968\n",
      "Epoch 4/6\n",
      "301/301 [==============================] - 18s 61ms/step - loss: 0.0147 - accuracy: 0.9977 - val_loss: 0.0048 - val_accuracy: 0.9998\n",
      "Epoch 5/6\n",
      "301/301 [==============================] - 19s 62ms/step - loss: 0.0084 - accuracy: 0.9986 - val_loss: 0.0037 - val_accuracy: 0.9995\n",
      "Epoch 6/6\n",
      "301/301 [==============================] - 18s 61ms/step - loss: 0.0206 - accuracy: 0.9940 - val_loss: 0.0657 - val_accuracy: 0.9813\n"
     ]
    },
    {
     "data": {
      "image/png": "[encoded data removed]",
      "text/plain": [
       "<Figure size 432x288 with 1 Axes>"
      ]
     },
     "metadata": {
      "needs_background": "light"
     },
     "output_type": "display_data"
    },
    {
     "data": {
      "image/png": "[encoded data removed]",
      "text/plain": [
       "<Figure size 432x288 with 1 Axes>"
      ]
     },
     "metadata": {
      "needs_background": "light"
     },
     "output_type": "display_data"
    }
   ],
   "source": [
    "df = pd.read_csv(trainFile)\n",
    "#  remove this comment\n",
    "train = df.values[0:, 1:]\n",
    "labels = df.values[0:, 0]\n",
    "labels = to_categorical(labels)\n",
    "sample = train[1]\n",
    "plt.imshow(sample.reshape((28, 28)))\n",
    "train = train/255\n",
    "train = train.reshape((27455, 28, 28, 1))\n",
    "plt.imshow(train[1].reshape((28, 28)))\n",
    "model = Sequential()\n",
    "model.add(Conv2D(filters=32, kernel_size=(3, 3), input_shape=(28, 28, 1), activation='relu', padding='same'))\n",
    "model.add(MaxPool2D((2, 2)))\n",
    "model.add(Conv2D(filters=64, kernel_size=(3, 3), padding='same', activation='relu'))\n",
    "model.add(MaxPool2D(2, 2))\n",
    "model.add(Conv2D(64, kernel_size=(3, 3), padding='same', activation='relu'))\n",
    "model.add(Flatten())\n",
    "model.add(Dense(64, activation='relu'))\n",
    "model.add(Dense(25, activation='softmax'))\n",
    "model.compile(optimizer='adam', loss='categorical_crossentropy', metrics=['accuracy'])\n",
    "h = model.fit(train, labels, validation_split=0.3, epochs=6, batch_size=64)\n",
    "plt.plot(h.history['accuracy'])\n",
    "plt.plot(h.history['val_accuracy'])\n",
    "plt.title('Model accuracy')\n",
    "plt.show()\n",
    "plt.plot(h.history['loss'])\n",
    "plt.plot(h.history['val_loss'])\n",
    "plt.title('Model Loss')\n",
    "plt.show()"
   ]
  },
  {
   "cell_type": "code",
   "execution_count": 48,
   "metadata": {},
   "outputs": [],
   "source": [
    "frameWidth = 640\n",
    "frameHeight = 480\n",
    "brightness = 180\n",
    "threshold = 0.90\n",
    "font = cv.FONT_HERSHEY_SIMPLEX"
   ]
  },
  {
   "cell_type": "code",
   "execution_count": 49,
   "metadata": {},
   "outputs": [
    {
     "data": {
      "text/plain": [
       "True"
      ]
     },
     "execution_count": 49,
     "metadata": {},
     "output_type": "execute_result"
    }
   ],
   "source": [
    "cap = cv.VideoCapture(0)\n",
    "cap.set(3, frameWidth)\n",
    "cap.set(4, frameHeight)\n",
    "cap.set(10, brightness)"
   ]
  },
  {
   "cell_type": "code",
   "execution_count": 33,
   "metadata": {},
   "outputs": [
    {
     "data": {
      "text/plain": [
       "array([[0., 0., 0., ..., 0., 0., 0.],\n",
       "       [0., 0., 0., ..., 0., 0., 0.],\n",
       "       [0., 0., 1., ..., 0., 0., 0.],\n",
       "       ...,\n",
       "       [0., 0., 0., ..., 0., 0., 0.],\n",
       "       [0., 0., 0., ..., 0., 0., 0.],\n",
       "       [0., 0., 0., ..., 0., 1., 0.]], dtype=float32)"
      ]
     },
     "execution_count": 33,
     "metadata": {},
     "output_type": "execute_result"
    }
   ],
   "source": [
    "labels"
   ]
  },
  {
   "cell_type": "code",
   "execution_count": 24,
   "metadata": {},
   "outputs": [],
   "source": [
    "def grayscale(img):\n",
    "    img = cv.cvtColor(img, cv.COLOR_BGR2GRAY)\n",
    "    return img"
   ]
  },
  {
   "cell_type": "code",
   "execution_count": 25,
   "metadata": {},
   "outputs": [],
   "source": [
    "def equalize(img):\n",
    "    img = cv.equalizeHist(img)\n",
    "    return img"
   ]
  },
  {
   "cell_type": "code",
   "execution_count": 26,
   "metadata": {},
   "outputs": [],
   "source": [
    "def preprocessing(img):\n",
    "    img = grayscale(img)\n",
    "    img = equalize(img)\n",
    "    img = img/255\n",
    "    return img"
   ]
  },
  {
   "cell_type": "code",
   "execution_count": 44,
   "metadata": {},
   "outputs": [],
   "source": [
    "def getClassName(classNo):\n",
    "    if classNo == 15:\n",
    "        return \"You Signed A!\"\n",
    "    elif classNo == 22:\n",
    "        return \"You Signed B!\"\n",
    "    elif classNo == 2:\n",
    "        return \"You Signed C!\"\n",
    "    elif classNo == 3:\n",
    "        return \"You Signed D!\"\n",
    "    elif classNo == 4:\n",
    "        return \"You Signed E!\"\n",
    "    elif classNo == 5:\n",
    "        return \"You Signed F!\"\n",
    "    elif classNo == 6:\n",
    "        return \"You Signed G!\"\n",
    "    elif classNo == 7:\n",
    "        return \"You Signed H!\"\n",
    "    elif classNo == 8:\n",
    "        return \"You Signed I!\"\n",
    "    elif classNo == 9:\n",
    "        return \"You Signed K!\"\n",
    "    elif classNo == 10:\n",
    "        return \"You Signed L!\"\n",
    "    elif classNo == 11:\n",
    "        return \"You Signed M!\"\n",
    "    elif classNo == 12:\n",
    "        return \"You Signed N!\"\n",
    "    elif classNo == 13:\n",
    "        return \"You Signed O!\"\n",
    "    elif classNo == 14:\n",
    "        return \"You Signed P!\"\n",
    "    elif classNo == 0:\n",
    "        return \"You Signed Q!\"\n",
    "    elif classNo == 16:\n",
    "        return \"You Signed R!\"\n",
    "    elif classNo == 17:\n",
    "        return \"You Signed S!\"\n",
    "    elif classNo == 18:\n",
    "        return \"You Signed T!\"\n",
    "    elif classNo == 19:\n",
    "        return \"You Signed U!\"\n",
    "    elif classNo == 20:\n",
    "        return \"You Signed V!\"\n",
    "    elif classNo == 21:\n",
    "        return \"You Signed W!\"\n",
    "    elif classNo == 22:\n",
    "        return \"You Signed X!\"\n",
    "    elif classNo == 1:\n",
    "        return \"You Signed Y!\"\n",
    "    else:\n",
    "        return \"You Haven't Signed.\"\n",
    "    "
   ]
  },
  {
   "cell_type": "code",
   "execution_count": 50,
   "metadata": {},
   "outputs": [],
   "source": [
    "while True:\n",
    "    success, imgOriginal = cap.read()\n",
    "    #imgOriginal = (cv.flip(imgOriginal, 1))\n",
    "    \n",
    "    \n",
    "    img = np.asarray(imgOriginal)\n",
    "    imgOriginal = (cv.flip(imgOriginal, 1))\n",
    "    img = cv.resize(img, (28, 28))\n",
    "    img = preprocessing(img)\n",
    "    cv.imshow(\"Processed Image\", img)\n",
    "    img_tensor = img.reshape(1, 28, 28, 1)\n",
    "    cv.putText(imgOriginal, \"CLASS: \", (20,35), font, 0.75, (0,0,255), 2, cv.LINE_AA)\n",
    "    cv.putText(imgOriginal,\"PROBABILITY: \", (20,75), font, 0.75, (255,0,0), 2, cv.LINE_AA)\n",
    "    \n",
    "    predictions = model.predict(img_tensor)\n",
    "    classIndex = predictions.argmax(axis=-1)\n",
    "    #classIndex = model.predict_classes(img)\n",
    "    probabilityValue = np.amax(predictions)\n",
    "    if probabilityValue > threshold:\n",
    "        cv.putText(imgOriginal, str(classIndex)+\" \"+str(getClassName(classIndex)), (120,35), font, 0.75, (0,0,255), 2, cv.LINE_AA)\n",
    "        cv.putText(imgOriginal, str(round(probabilityValue*100, 2)), (180,75), font, 0.75, (255,0,0), 2, cv.LINE_AA)\n",
    "        \n",
    "    cv.imshow(\"Picture\", imgOriginal)\n",
    "    cv.imshow(\"Result\", img)\n",
    "    \n",
    "    key = cv.waitKey(1)\n",
    "    if key in [27, ord('Q'), ord('q')]:\n",
    "        break\n",
    "        \n",
    "cap.release()\n",
    "cv.destroyAllWindows() "
   ]
  },
  {
   "cell_type": "code",
   "execution_count": null,
   "metadata": {},
   "outputs": [],
   "source": []
  }
 ],
 "metadata": {
  "kernelspec": {
   "display_name": "Python 3",
   "language": "python",
   "name": "python3"
  },
  "language_info": {
   "codemirror_mode": {
    "name": "ipython",
    "version": 3
   },
   "file_extension": ".py",
   "mimetype": "text/x-python",
   "name": "python",
   "nbconvert_exporter": "python",
   "pygments_lexer": "ipython3",
   "version": "3.8.8"
  }
 },
 "nbformat": 4,
 "nbformat_minor": 4
}
