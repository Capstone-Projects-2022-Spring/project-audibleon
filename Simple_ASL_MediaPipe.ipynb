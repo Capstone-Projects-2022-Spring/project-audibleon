{
 "cells": [
  {
   "cell_type": "code",
   "execution_count": 18,
   "id": "26ea369c",
   "metadata": {},
   "outputs": [],
   "source": [
    "import cv2\n",
    "import mediapipe as mp\n",
    "import time\n",
    "import handTrackingModule as htm\n",
    "from math import *"
   ]
  },
  {
   "cell_type": "code",
   "execution_count": 9,
   "id": "75fd6b9b",
   "metadata": {},
   "outputs": [],
   "source": [
    "classes = ['My', 'Your', 'Thank You', 'I Love You', 'Help', 'Hello', 'Yes', 'No', 'Ok']"
   ]
  },
  {
   "cell_type": "code",
   "execution_count": 19,
   "id": "b4091404",
   "metadata": {},
   "outputs": [],
   "source": [
    "def lineTrack(frame, lmList, p1, p2, draw = True):\n",
    "    if len(lmList) != 0:\n",
    "        startPoint = (lmList[p1][1], lmList[p1][2])\n",
    "        endPoint = (lmList[p2][1], lmList[p2][2])\n",
    "        \n",
    "        if draw:\n",
    "            frame = cv2.line(frame, startPoint, endPoint, (255, 255, 255), 9)\n",
    "    return (frame, startPoint, endPoint)"
   ]
  },
  {
   "cell_type": "code",
   "execution_count": 20,
   "id": "69f73501",
   "metadata": {},
   "outputs": [],
   "source": [
    "def length(start, end):\n",
    "    x1, y1 = start\n",
    "    x2, y2 = end\n",
    "    x = (x2 - x1)**2\n",
    "    y = (y2 - y1)**2\n",
    "    return sqrt(x+y)"
   ]
  },
  {
   "cell_type": "code",
   "execution_count": null,
   "id": "aeaadaf6",
   "metadata": {},
   "outputs": [],
   "source": [
    "def my(lmList):"
   ]
  },
  {
   "cell_type": "code",
   "execution_count": null,
   "id": "84c1b614",
   "metadata": {},
   "outputs": [],
   "source": [
    "def your(lmlist):"
   ]
  },
  {
   "cell_type": "code",
   "execution_count": null,
   "id": "3f7a79c1",
   "metadata": {},
   "outputs": [],
   "source": [
    "def thankYou(lmList):"
   ]
  },
  {
   "cell_type": "code",
   "execution_count": 39,
   "id": "e83d0c93",
   "metadata": {},
   "outputs": [],
   "source": [
    "def iLoveYou(lmList):\n",
    "    if len(lmList) != 0:\n",
    "        index = lmList[8][2] < lmList[6][2]\n",
    "        middle = lmList[12][2] > lmList[10][2]\n",
    "        ring = lmList[16][2] > lmList[14][2]\n",
    "        pinky = lmList[20][2] < lmList[18][2]\n",
    "        thumb = lmList[4][1] < lmList[3][1]\n",
    "        \n",
    "        if index and middle and ring and pinky and thumb:\n",
    "            return 1\n",
    "        else:\n",
    "            return 0"
   ]
  },
  {
   "cell_type": "code",
   "execution_count": null,
   "id": "be7b3203",
   "metadata": {},
   "outputs": [],
   "source": [
    "def help_sign(lmList):"
   ]
  },
  {
   "cell_type": "code",
   "execution_count": null,
   "id": "14f9ec7e",
   "metadata": {},
   "outputs": [],
   "source": [
    "def hello(lmList):\n",
    "    if len(lmList) != 0:\n",
    "        #index = lmList[8][2] > lmList[6][2]\n",
    "        middle = lmList[12][2] < lmList[10][2]\n",
    "        ring = lmList[16][2] < lmList[14][2]\n",
    "        pinky = lmList[20][2] < lmList[18][2]\n",
    "        distance = length((lmList[8][1],lmList[8][2]),(lmList[4][1],lmList[4][2]))  \n",
    "        \n",
    "        if middle and ring and pinky and distance < 70:\n",
    "            return 1\n",
    "        else:\n",
    "            return 0"
   ]
  },
  {
   "cell_type": "code",
   "execution_count": null,
   "id": "1c79be2c",
   "metadata": {},
   "outputs": [],
   "source": [
    "def yes(lmList):"
   ]
  },
  {
   "cell_type": "code",
   "execution_count": null,
   "id": "7f04d74d",
   "metadata": {},
   "outputs": [],
   "source": [
    "def no(lmList):"
   ]
  },
  {
   "cell_type": "code",
   "execution_count": 40,
   "id": "3c037003",
   "metadata": {},
   "outputs": [],
   "source": [
    "def ok(lmList):\n",
    "    if len(lmList) != 0:\n",
    "        #index = lmList[8][2] > lmList[6][2]\n",
    "        middle = lmList[12][2] < lmList[10][2]\n",
    "        ring = lmList[16][2] < lmList[14][2]\n",
    "        pinky = lmList[20][2] < lmList[18][2]\n",
    "        distance = length((lmList[8][1],lmList[8][2]),(lmList[4][1],lmList[4][2]))  \n",
    "        \n",
    "        if middle and ring and pinky and distance < 70:\n",
    "            return 1\n",
    "        else:\n",
    "            return 0"
   ]
  },
  {
   "cell_type": "code",
   "execution_count": 44,
   "id": "91f42d43",
   "metadata": {},
   "outputs": [],
   "source": [
    "frameWidth = 640\n",
    "frameHeight = 480\n",
    "font = cv2.FONT_HERSHEY_SIMPLEX"
   ]
  },
  {
   "cell_type": "code",
   "execution_count": 45,
   "id": "eacb2e99",
   "metadata": {},
   "outputs": [],
   "source": [
    "cap = cv2.VideoCapture(0)\n",
    "cap.set(3, frameWidth)\n",
    "cap.set(4, frameHeight)\n",
    "\n",
    "pTime = 0\n",
    "\n",
    "detector = htm.handDetector(detectionCon = 1)"
   ]
  },
  {
   "cell_type": "code",
   "execution_count": 46,
   "id": "21a11503",
   "metadata": {},
   "outputs": [],
   "source": [
    "while True:\n",
    "    success, frame = cap.read()\n",
    "    \n",
    "    frame = cv2.flip(frame, 1)\n",
    "    \n",
    "    frame = detector.findHands(frame)\n",
    "    \n",
    "    lmList = detector.findPosition(frame, draw = False)\n",
    "    \n",
    "    if(ok(lmList)):\n",
    "         cv2.putText(frame, f'You signed {str(classes[8])}!', (20, 70), font, 1, (255,0,0), 3)\n",
    "    elif(iLoveYou(lmList)):\n",
    "        cv2.putText(frame, f'You signed {str(classes[3])}!', (20, 70), font, 1, (255,0,0), 3)\n",
    "        \n",
    "    # Calculating the Frames per Seconds (FPS)\n",
    "    cTime = time.time()\n",
    "    fps = 1 / (cTime - pTime)\n",
    "    pTime = cTime\n",
    "    \n",
    "    # Displaying the FPS (ERROR PRINTING HIGH NUMBERS)\n",
    "    cv2.putText(frame, f'FPS: {int(fps)}', (400, 70), cv2.FONT_HERSHEY_PLAIN, 3, (0,0,0), 3)\n",
    "    \n",
    "    cv2.imshow(\"Camera\", frame)\n",
    "    \n",
    "    key = cv2.waitKey(1)\n",
    "    if key in [27, ord('Q'), ord('q')]:\n",
    "        break\n",
    "        \n",
    "cap.release()\n",
    "cv2.destroyAllWindows()"
   ]
  }
 ],
 "metadata": {
  "kernelspec": {
   "display_name": "Python 3",
   "language": "python",
   "name": "python3"
  },
  "language_info": {
   "codemirror_mode": {
    "name": "ipython",
    "version": 3
   },
   "file_extension": ".py",
   "mimetype": "text/x-python",
   "name": "python",
   "nbconvert_exporter": "python",
   "pygments_lexer": "ipython3",
   "version": "3.8.8"
  }
 },
 "nbformat": 4,
 "nbformat_minor": 5
}
